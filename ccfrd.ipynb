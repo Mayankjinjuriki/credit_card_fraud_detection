{
 "cells": [
  {
   "cell_type": "code",
   "execution_count": null,
   "id": "52e67651-76b2-42cf-a9c7-24dc06a34769",
   "metadata": {},
   "outputs": [],
   "source": [
    "import pandas as pd\n",
    "import numpy as np\n",
    "import os\n",
    "from sklearn.model_selection import train_test_split\n",
    "from sklearn.preprocessing import LabelEncoder\n",
    "from sklearn.metrics import classification_report, confusion_matrix, accuracy_score\n",
    "!pip install xgboost\n",
    "import xgboost as xgb"
   ]
  },
  {
   "cell_type": "code",
   "execution_count": null,
   "id": "6abaec27-0203-4319-976e-4d8900dc42e9",
   "metadata": {},
   "outputs": [],
   "source": [
    "df_train= pd.read_csv('ccfrd train.csv')\n",
    "df_test= pd.read_csv('ccfrd test.csv')"
   ]
  },
  {
   "cell_type": "code",
   "execution_count": null,
   "id": "e538564d-747a-4b68-b1f0-92af4fb98efa",
   "metadata": {},
   "outputs": [],
   "source": [
    "df_train.head()"
   ]
  },
  {
   "cell_type": "code",
   "execution_count": null,
   "id": "98b17fab-6c8b-4e1f-9475-5e279c70db01",
   "metadata": {},
   "outputs": [],
   "source": [
    "df_test.head()"
   ]
  },
  {
   "cell_type": "code",
   "execution_count": null,
   "id": "f9dc793c-93e4-4abb-a5fb-d44d701da409",
   "metadata": {},
   "outputs": [],
   "source": [
    "df_train.drop(columns=['Unnamed: 0'])\n",
    "df_test.drop(columns=['Unnamed: 0'])"
   ]
  },
  {
   "cell_type": "code",
   "execution_count": null,
   "id": "914ca4e8-4370-40ba-bc68-84c8d2a07d46",
   "metadata": {},
   "outputs": [],
   "source": [
    "df_train.drop(columns=['Unnamed: 0', 'first', 'last', 'street', 'cc_num', 'trans_num'])\n",
    "df_test.drop(columns=['Unnamed: 0', 'first', 'last', 'street', 'cc_num', 'trans_num'])"
   ]
  },
  {
   "cell_type": "code",
   "execution_count": null,
   "id": "5e3046e5-2fc1-4c26-b0a3-a6af3480f656",
   "metadata": {},
   "outputs": [],
   "source": [
    "df_train['trans_date_trans_time'] = pd.to_datetime(df_train['trans_date_trans_time'])\n",
    "df_test['trans_date_trans_time'] = pd.to_datetime(df_test['trans_date_trans_time'])"
   ]
  },
  {
   "cell_type": "code",
   "execution_count": null,
   "id": "b916c59a-43b0-4b89-95f3-97c7a0761caa",
   "metadata": {},
   "outputs": [],
   "source": [
    "df_train['dob'] = pd.to_datetime(df_train['dob'])\n",
    "df_test['dob'] = pd.to_datetime(df_test['dob'])"
   ]
  },
  {
   "cell_type": "code",
   "execution_count": null,
   "id": "26313619-cfeb-4392-86df-b32c801d9097",
   "metadata": {},
   "outputs": [],
   "source": [
    "df_train['age'] = (df_train['trans_date_trans_time'] - df_train['dob']).dt.days // 365\n",
    "df_test['age'] = (df_test['trans_date_trans_time'] - df_test['dob']).dt.days // 365"
   ]
  },
  {
   "cell_type": "code",
   "execution_count": null,
   "id": "00e16239-2517-4c30-808a-e7a41720527a",
   "metadata": {},
   "outputs": [],
   "source": [
    "for df in [df_train, df_test]:\n",
    "    df['hour'] = df['trans_date_trans_time'].dt.hour\n",
    "    df['day_of_week'] = df['trans_date_trans_time'].dt.dayofweek\n",
    "    df['day'] = df['trans_date_trans_time'].dt.day\n",
    "    df['month'] = df['trans_date_trans_time'].dt.month\n"
   ]
  },
  {
   "cell_type": "code",
   "execution_count": null,
   "id": "e50d15d9-bf28-4d15-95c1-5469557190fc",
   "metadata": {},
   "outputs": [],
   "source": [
    "df_train.drop(['dob', 'trans_date_trans_time'], axis=1, inplace=True)\n",
    "df_test.drop(['dob', 'trans_date_trans_time'], axis=1, inplace=True)"
   ]
  },
  {
   "cell_type": "code",
   "execution_count": null,
   "id": "dec58957-67f1-4d95-93f7-7de82b7a16ad",
   "metadata": {},
   "outputs": [],
   "source": [
    "df_train['gender'] = df_train['gender'].map({'F': 0, 'M': 1})\n",
    "df_test['gender'] = df_test['gender'].map({'F': 0, 'M': 1})\n"
   ]
  },
  {
   "cell_type": "code",
   "execution_count": null,
   "id": "4e035b6e-f3d7-4fa3-8269-c98c361d8da7",
   "metadata": {},
   "outputs": [],
   "source": [
    "\n",
    "import matplotlib.pyplot as plt\n",
    "import seaborn as sns\n"
   ]
  },
  {
   "cell_type": "code",
   "execution_count": null,
   "id": "565c9d54-538c-46dc-9a7f-3aaf735d95e7",
   "metadata": {},
   "outputs": [],
   "source": [
    "sns.countplot(x='is_fraud', data=df_train)\n",
    "plt.title('Class Distribution in Training Set')\n",
    "plt.show()\n"
   ]
  },
  {
   "cell_type": "code",
   "execution_count": null,
   "id": "acf98111-b1b2-41da-94b6-30b303060ffe",
   "metadata": {},
   "outputs": [],
   "source": [
    "corr_matrix = df_train.corr(numeric_only=True)\n"
   ]
  },
  {
   "cell_type": "code",
   "execution_count": null,
   "id": "9d7bdda3-cebd-4dcb-b547-62060f6788ea",
   "metadata": {},
   "outputs": [],
   "source": [
    "plt.figure(figsize=(12, 10))\n",
    "sns.heatmap(corr_matrix, annot=True, fmt='.2f', cmap='coolwarm')\n",
    "plt.title('Correlation Matrix')\n",
    "plt.show()\n"
   ]
  },
  {
   "cell_type": "code",
   "execution_count": null,
   "id": "7ed52e77-728e-4beb-a8f6-8f98981d2644",
   "metadata": {},
   "outputs": [],
   "source": [
    "from sklearn.model_selection import train_test_split\n",
    "from sklearn.preprocessing import LabelEncoder\n"
   ]
  },
  {
   "cell_type": "code",
   "execution_count": null,
   "id": "633a3774-0d85-4314-8373-048017fc8884",
   "metadata": {},
   "outputs": [],
   "source": [
    "df_combined = pd.concat([df_train, df_test], axis=0)\n"
   ]
  },
  {
   "cell_type": "code",
   "execution_count": null,
   "id": "0818e479-9904-4e00-b24e-4ca3accff07e",
   "metadata": {},
   "outputs": [],
   "source": [
    "categorical_cols = ['merchant', 'category', 'city', 'state', 'job']\n",
    "for col in categorical_cols:\n",
    "    le = LabelEncoder()\n",
    "    df_combined[col] = le.fit_transform(df_combined[col])\n"
   ]
  },
  {
   "cell_type": "code",
   "execution_count": null,
   "id": "f1cdc0b7-d503-472c-9756-6e0c13263e5b",
   "metadata": {},
   "outputs": [],
   "source": [
    "df_train_encoded = df_combined.iloc[:len(df_train)]\n",
    "df_test_encoded = df_combined.iloc[len(df_train):]\n"
   ]
  },
  {
   "cell_type": "code",
   "execution_count": null,
   "id": "db87f514-568a-42b8-b576-c46b487dac2f",
   "metadata": {},
   "outputs": [],
   "source": [
    "X = df_train_encoded.drop('is_fraud', axis=1)\n",
    "y = df_train_encoded['is_fraud']\n"
   ]
  },
  {
   "cell_type": "code",
   "execution_count": null,
   "id": "85337bfc-d586-4375-8bfb-40e3de2912d8",
   "metadata": {},
   "outputs": [],
   "source": [
    "# Split data into training and validation sets\n",
    "X_train, X_val, y_train, y_val = train_test_split(X, y, test_size=0.2, stratify=y, random_state=42)\n"
   ]
  },
  {
   "cell_type": "code",
   "execution_count": null,
   "id": "7969df1c-ec2f-4eb6-8b7e-6301437d55e1",
   "metadata": {},
   "outputs": [],
   "source": [
    "import xgboost as xgb\n",
    "from sklearn.metrics import classification_report, confusion_matrix, roc_auc_score\n"
   ]
  },
  {
   "cell_type": "code",
   "execution_count": null,
   "id": "268b3697-e942-47a3-bd0d-2d245ac16260",
   "metadata": {},
   "outputs": [],
   "source": [
    "# Initialize XGBoost classifier\n",
    "model = xgb.XGBClassifier(use_label_encoder=False, eval_metric='logloss', random_state=42)\n",
    "\n"
   ]
  },
  {
   "cell_type": "code",
   "execution_count": null,
   "id": "5ebdee3b-6063-4482-97e5-5a014e4262ee",
   "metadata": {},
   "outputs": [],
   "source": [
    "from sklearn.metrics import classification_report, confusion_matrix, roc_auc_score\n",
    "\n",
    "print(\"Classification Report:\")\n",
    "print(classification_report(y_val, y_pred))\n",
    "\n",
    "print(\"Confusion Matrix:\")\n",
    "print(confusion_matrix(y_val, y_pred))\n",
    "\n",
    "print(f\"ROC AUC Score: {roc_auc_score(y_val, y_proba):.4f}\")\n"
   ]
  },
  {
   "cell_type": "code",
   "execution_count": null,
   "id": "455a9b7c-ee9c-48ce-a5d3-b24ea887596e",
   "metadata": {},
   "outputs": [],
   "source": [
    "y_pred = model.predict(X_val)\n",
    "y_proba = model.predict_proba(X_val)[:, 1]\n"
   ]
  },
  {
   "cell_type": "code",
   "execution_count": null,
   "id": "10c86643-a1d5-4717-9369-09d9e693f228",
   "metadata": {
    "scrolled": true
   },
   "outputs": [],
   "source": [
    "# Evaluation metrics\n",
    "\n",
    "print(\"Classification Report:\")\n",
    "print(classification_report(y_val, y_pred))\n",
    "print(\"Confusion Matrix:\")\n",
    "print(confusion_matrix(y_val, y_pred))\n",
    "print(f\"ROC AUC Score: {roc_auc_score(y_val, y_proba):.4f}\")\n"
   ]
  },
  {
   "cell_type": "code",
   "execution_count": null,
   "id": "6ec83a93-43e1-4479-8907-71eba3133967",
   "metadata": {},
   "outputs": [],
   "source": [
    "# Prepare test features\n",
    "X_test = df_test_encoded.drop('is_fraud', axis=1)\n",
    "\n",
    "# Predict probabilities\n",
    "test_proba = model.predict_proba(X_test)[:, 1]\n",
    "\n",
    "# Predict classes\n",
    "test_pred = model.predict(X_test)\n"
   ]
  },
  {
   "cell_type": "code",
   "execution_count": null,
   "id": "1332da70-3285-432c-a234-fe09decca8cb",
   "metadata": {},
   "outputs": [],
   "source": [
    "df_test['predicted_proba'] = test_proba\n",
    "df_test['predicted_label'] = test_pred\n",
    "\n",
    "# Display sample predictions\n",
    "df_test[['predicted_proba', 'predicted_label']].head()\n"
   ]
  },
  {
   "cell_type": "code",
   "execution_count": null,
   "id": "64aaf37d-8531-488f-a49e-b938fbb1b8ba",
   "metadata": {},
   "outputs": [],
   "source": []
  },
  {
   "cell_type": "code",
   "execution_count": null,
   "id": "2ba365d2-2598-4604-bfe1-3cf658f60c65",
   "metadata": {},
   "outputs": [],
   "source": []
  },
  {
   "cell_type": "code",
   "execution_count": null,
   "id": "31d247e3-80f6-47f6-9825-6e17369daacd",
   "metadata": {},
   "outputs": [],
   "source": []
  }
 ],
 "metadata": {
  "kernelspec": {
   "display_name": "Python 3 (ipykernel)",
   "language": "python",
   "name": "python3"
  },
  "language_info": {
   "codemirror_mode": {
    "name": "ipython",
    "version": 3
   },
   "file_extension": ".py",
   "mimetype": "text/x-python",
   "name": "python",
   "nbconvert_exporter": "python",
   "pygments_lexer": "ipython3",
   "version": "3.12.7"
  }
 },
 "nbformat": 4,
 "nbformat_minor": 5
}
